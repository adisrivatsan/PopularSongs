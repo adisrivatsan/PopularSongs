{
 "cells": [
  {
   "cell_type": "code",
   "execution_count": 1,
   "metadata": {},
   "outputs": [],
   "source": [
    "import pandas as pd \n",
    "import numpy as np\n",
    "import matplotlib.pyplot as plt"
   ]
  },
  {
   "cell_type": "code",
   "execution_count": 2,
   "metadata": {},
   "outputs": [],
   "source": [
    "geniusLyrics = pd.read_csv('lyricGenius.csv')\n",
    "spotifyFeatures = pd.read_csv('filtered_tracks_with_features.csv',encoding = \"ISO-8859-1\")"
   ]
  },
  {
   "cell_type": "code",
   "execution_count": 12,
   "metadata": {},
   "outputs": [
    {
     "data": {
      "text/html": [
       "<div>\n",
       "<style scoped>\n",
       "    .dataframe tbody tr th:only-of-type {\n",
       "        vertical-align: middle;\n",
       "    }\n",
       "\n",
       "    .dataframe tbody tr th {\n",
       "        vertical-align: top;\n",
       "    }\n",
       "\n",
       "    .dataframe thead th {\n",
       "        text-align: right;\n",
       "    }\n",
       "</style>\n",
       "<table border=\"1\" class=\"dataframe\">\n",
       "  <thead>\n",
       "    <tr style=\"text-align: right;\">\n",
       "      <th></th>\n",
       "      <th>Unnamed: 0</th>\n",
       "      <th>index</th>\n",
       "      <th>Track Name</th>\n",
       "      <th>Artist</th>\n",
       "      <th>lyricsGenius</th>\n",
       "    </tr>\n",
       "  </thead>\n",
       "  <tbody>\n",
       "    <tr>\n",
       "      <th>0</th>\n",
       "      <td>0</td>\n",
       "      <td>771622</td>\n",
       "      <td>Bad and Boujee (feat. Lil Uzi Vert)</td>\n",
       "      <td>Migos</td>\n",
       "      <td>\\n\\n[Intro: Offset]\\nYou know, young rich nigg...</td>\n",
       "    </tr>\n",
       "    <tr>\n",
       "      <th>1</th>\n",
       "      <td>1</td>\n",
       "      <td>771623</td>\n",
       "      <td>Fake Love</td>\n",
       "      <td>Drake</td>\n",
       "      <td>\\n\\n[Chorus]\\nI've been down so long, it look ...</td>\n",
       "    </tr>\n",
       "    <tr>\n",
       "      <th>2</th>\n",
       "      <td>2</td>\n",
       "      <td>771624</td>\n",
       "      <td>Starboy</td>\n",
       "      <td>The Weeknd</td>\n",
       "      <td>\\n\\n[Verse 1]\\nI'm tryna put you in the worst ...</td>\n",
       "    </tr>\n",
       "    <tr>\n",
       "      <th>3</th>\n",
       "      <td>3</td>\n",
       "      <td>771625</td>\n",
       "      <td>Closer</td>\n",
       "      <td>The Chainsmokers</td>\n",
       "      <td>\\n\\n[Verse 1: Andrew Taggart]\\nHey, I was doin...</td>\n",
       "    </tr>\n",
       "    <tr>\n",
       "      <th>4</th>\n",
       "      <td>4</td>\n",
       "      <td>771626</td>\n",
       "      <td>Black Beatles</td>\n",
       "      <td>Rae Sremmurd</td>\n",
       "      <td>\\n\\n[Intro: Swae Lee &amp; Gucci Mane]\\nBlack Beat...</td>\n",
       "    </tr>\n",
       "  </tbody>\n",
       "</table>\n",
       "</div>"
      ],
      "text/plain": [
       "   Unnamed: 0   index                           Track Name            Artist  \\\n",
       "0           0  771622  Bad and Boujee (feat. Lil Uzi Vert)             Migos   \n",
       "1           1  771623                            Fake Love             Drake   \n",
       "2           2  771624                              Starboy        The Weeknd   \n",
       "3           3  771625                               Closer  The Chainsmokers   \n",
       "4           4  771626                        Black Beatles      Rae Sremmurd   \n",
       "\n",
       "                                        lyricsGenius  \n",
       "0  \\n\\n[Intro: Offset]\\nYou know, young rich nigg...  \n",
       "1  \\n\\n[Chorus]\\nI've been down so long, it look ...  \n",
       "2  \\n\\n[Verse 1]\\nI'm tryna put you in the worst ...  \n",
       "3  \\n\\n[Verse 1: Andrew Taggart]\\nHey, I was doin...  \n",
       "4  \\n\\n[Intro: Swae Lee & Gucci Mane]\\nBlack Beat...  "
      ]
     },
     "execution_count": 12,
     "metadata": {},
     "output_type": "execute_result"
    }
   ],
   "source": [
    "geniusLyrics.head()"
   ]
  },
  {
   "cell_type": "code",
   "execution_count": null,
   "metadata": {},
   "outputs": [],
   "source": [
    "spotifyFeatures"
   ]
  },
  {
   "cell_type": "code",
   "execution_count": 43,
   "metadata": {},
   "outputs": [],
   "source": [
    "song = pd.read_csv('data.csv')"
   ]
  },
  {
   "cell_type": "code",
   "execution_count": 44,
   "metadata": {},
   "outputs": [],
   "source": [
    "top10Countries = song.groupby('Region')['Streams'].mean().reset_index().sort_values('Streams',ascending=False).reset_index()['Region'][1:10]"
   ]
  },
  {
   "cell_type": "code",
   "execution_count": 9,
   "metadata": {},
   "outputs": [
    {
     "data": {
      "text/plain": [
       "1    us\n",
       "2    gb\n",
       "3    br\n",
       "4    mx\n",
       "5    de\n",
       "6    es\n",
       "7    nl\n",
       "8    au\n",
       "9    se\n",
       "Name: Region, dtype: object"
      ]
     },
     "execution_count": 9,
     "metadata": {},
     "output_type": "execute_result"
    }
   ],
   "source": [
    "top10Countries"
   ]
  },
  {
   "cell_type": "code",
   "execution_count": 45,
   "metadata": {},
   "outputs": [],
   "source": [
    "song_top10 = pd.DataFrame([x for i,x in song.iterrows() if x['Region'] in np.array(top10Countries)])"
   ]
  },
  {
   "cell_type": "code",
   "execution_count": 46,
   "metadata": {},
   "outputs": [
    {
     "data": {
      "text/html": [
       "<div>\n",
       "<table border=\"1\" class=\"dataframe\">\n",
       "  <thead>\n",
       "    <tr style=\"text-align: right;\">\n",
       "      <th></th>\n",
       "      <th>Position</th>\n",
       "      <th>Track Name</th>\n",
       "      <th>Artist</th>\n",
       "      <th>Streams</th>\n",
       "      <th>URL</th>\n",
       "      <th>Date</th>\n",
       "      <th>Region</th>\n",
       "    </tr>\n",
       "  </thead>\n",
       "  <tbody>\n",
       "    <tr>\n",
       "      <th>771622</th>\n",
       "      <td>1</td>\n",
       "      <td>Bad and Boujee (feat. Lil Uzi Vert)</td>\n",
       "      <td>Migos</td>\n",
       "      <td>1371493</td>\n",
       "      <td>https://open.spotify.com/track/4Km5HrUvYTaSUfi...</td>\n",
       "      <td>2017-01-01</td>\n",
       "      <td>us</td>\n",
       "    </tr>\n",
       "    <tr>\n",
       "      <th>771623</th>\n",
       "      <td>2</td>\n",
       "      <td>Fake Love</td>\n",
       "      <td>Drake</td>\n",
       "      <td>1180074</td>\n",
       "      <td>https://open.spotify.com/track/343YBumqHu19cGo...</td>\n",
       "      <td>2017-01-01</td>\n",
       "      <td>us</td>\n",
       "    </tr>\n",
       "    <tr>\n",
       "      <th>771624</th>\n",
       "      <td>3</td>\n",
       "      <td>Starboy</td>\n",
       "      <td>The Weeknd</td>\n",
       "      <td>1064351</td>\n",
       "      <td>https://open.spotify.com/track/5aAx2yezTd8zXrk...</td>\n",
       "      <td>2017-01-01</td>\n",
       "      <td>us</td>\n",
       "    </tr>\n",
       "    <tr>\n",
       "      <th>771625</th>\n",
       "      <td>4</td>\n",
       "      <td>Closer</td>\n",
       "      <td>The Chainsmokers</td>\n",
       "      <td>1010492</td>\n",
       "      <td>https://open.spotify.com/track/7BKLCZ1jbUBVqRi...</td>\n",
       "      <td>2017-01-01</td>\n",
       "      <td>us</td>\n",
       "    </tr>\n",
       "    <tr>\n",
       "      <th>771626</th>\n",
       "      <td>5</td>\n",
       "      <td>Black Beatles</td>\n",
       "      <td>Rae Sremmurd</td>\n",
       "      <td>874289</td>\n",
       "      <td>https://open.spotify.com/track/6fujklziTHa8uoM...</td>\n",
       "      <td>2017-01-01</td>\n",
       "      <td>us</td>\n",
       "    </tr>\n",
       "    <tr>\n",
       "      <th>771627</th>\n",
       "      <td>6</td>\n",
       "      <td>Broccoli (feat. Lil Yachty)</td>\n",
       "      <td>DRAM</td>\n",
       "      <td>763259</td>\n",
       "      <td>https://open.spotify.com/track/7yyRTcZmCiyzzJl...</td>\n",
       "      <td>2017-01-01</td>\n",
       "      <td>us</td>\n",
       "    </tr>\n",
       "    <tr>\n",
       "      <th>771628</th>\n",
       "      <td>7</td>\n",
       "      <td>One Dance</td>\n",
       "      <td>Drake</td>\n",
       "      <td>753150</td>\n",
       "      <td>https://open.spotify.com/track/1xznGGDReH1oQq0...</td>\n",
       "      <td>2017-01-01</td>\n",
       "      <td>us</td>\n",
       "    </tr>\n",
       "    <tr>\n",
       "      <th>771629</th>\n",
       "      <td>8</td>\n",
       "      <td>Caroline</td>\n",
       "      <td>Aminé</td>\n",
       "      <td>714839</td>\n",
       "      <td>https://open.spotify.com/track/7FB8l7UA1HKqnuS...</td>\n",
       "      <td>2017-01-01</td>\n",
       "      <td>us</td>\n",
       "    </tr>\n",
       "    <tr>\n",
       "      <th>771630</th>\n",
       "      <td>9</td>\n",
       "      <td>Let Me Love You</td>\n",
       "      <td>DJ Snake</td>\n",
       "      <td>690483</td>\n",
       "      <td>https://open.spotify.com/track/4pdPtRcBmOSQDlJ...</td>\n",
       "      <td>2017-01-01</td>\n",
       "      <td>us</td>\n",
       "    </tr>\n",
       "    <tr>\n",
       "      <th>771631</th>\n",
       "      <td>10</td>\n",
       "      <td>Bounce Back</td>\n",
       "      <td>Big Sean</td>\n",
       "      <td>682688</td>\n",
       "      <td>https://open.spotify.com/track/0SGkqnVQo9KPytS...</td>\n",
       "      <td>2017-01-01</td>\n",
       "      <td>us</td>\n",
       "    </tr>\n",
       "    <tr>\n",
       "      <th>771632</th>\n",
       "      <td>11</td>\n",
       "      <td>I Feel It Coming</td>\n",
       "      <td>The Weeknd</td>\n",
       "      <td>651807</td>\n",
       "      <td>https://open.spotify.com/track/5GXAXm5YOmYT0kL...</td>\n",
       "      <td>2017-01-01</td>\n",
       "      <td>us</td>\n",
       "    </tr>\n",
       "    <tr>\n",
       "      <th>771633</th>\n",
       "      <td>12</td>\n",
       "      <td>24K Magic</td>\n",
       "      <td>Bruno Mars</td>\n",
       "      <td>574974</td>\n",
       "      <td>https://open.spotify.com/track/6b8Be6ljOzmkOmF...</td>\n",
       "      <td>2017-01-01</td>\n",
       "      <td>us</td>\n",
       "    </tr>\n",
       "    <tr>\n",
       "      <th>771634</th>\n",
       "      <td>13</td>\n",
       "      <td>Bad Things (with Camila Cabello)</td>\n",
       "      <td>Machine Gun Kelly</td>\n",
       "      <td>567789</td>\n",
       "      <td>https://open.spotify.com/track/1PSBzsahR2AKwLJ...</td>\n",
       "      <td>2017-01-01</td>\n",
       "      <td>us</td>\n",
       "    </tr>\n",
       "    <tr>\n",
       "      <th>771635</th>\n",
       "      <td>14</td>\n",
       "      <td>X (feat. Future)</td>\n",
       "      <td>21 Savage</td>\n",
       "      <td>544620</td>\n",
       "      <td>https://open.spotify.com/track/6fwdbPMwP1zVStm...</td>\n",
       "      <td>2017-01-01</td>\n",
       "      <td>us</td>\n",
       "    </tr>\n",
       "    <tr>\n",
       "      <th>771636</th>\n",
       "      <td>15</td>\n",
       "      <td>I Don’t Wanna Live Forever (Fifty Shades Darke...</td>\n",
       "      <td>ZAYN</td>\n",
       "      <td>507450</td>\n",
       "      <td>https://open.spotify.com/track/3NdDpSvN911VPGi...</td>\n",
       "      <td>2017-01-01</td>\n",
       "      <td>us</td>\n",
       "    </tr>\n",
       "    <tr>\n",
       "      <th>771637</th>\n",
       "      <td>16</td>\n",
       "      <td>Don't Wanna Know</td>\n",
       "      <td>Maroon 5</td>\n",
       "      <td>486364</td>\n",
       "      <td>https://open.spotify.com/track/5MFzQMkrl1FOOng...</td>\n",
       "      <td>2017-01-01</td>\n",
       "      <td>us</td>\n",
       "    </tr>\n",
       "    <tr>\n",
       "      <th>771638</th>\n",
       "      <td>17</td>\n",
       "      <td>Chill Bill</td>\n",
       "      <td>Rob $tone</td>\n",
       "      <td>485127</td>\n",
       "      <td>https://open.spotify.com/track/5uDASfU19gDxSjW...</td>\n",
       "      <td>2017-01-01</td>\n",
       "      <td>us</td>\n",
       "    </tr>\n",
       "    <tr>\n",
       "      <th>771639</th>\n",
       "      <td>18</td>\n",
       "      <td>Deja Vu</td>\n",
       "      <td>J. Cole</td>\n",
       "      <td>478503</td>\n",
       "      <td>https://open.spotify.com/track/6I6NX6tjGsxFAsI...</td>\n",
       "      <td>2017-01-01</td>\n",
       "      <td>us</td>\n",
       "    </tr>\n",
       "    <tr>\n",
       "      <th>771640</th>\n",
       "      <td>19</td>\n",
       "      <td>OOOUUU</td>\n",
       "      <td>Young M.A</td>\n",
       "      <td>456308</td>\n",
       "      <td>https://open.spotify.com/track/7JYsArznYOjX2js...</td>\n",
       "      <td>2017-01-01</td>\n",
       "      <td>us</td>\n",
       "    </tr>\n",
       "    <tr>\n",
       "      <th>771641</th>\n",
       "      <td>20</td>\n",
       "      <td>Party Monster</td>\n",
       "      <td>The Weeknd</td>\n",
       "      <td>456291</td>\n",
       "      <td>https://open.spotify.com/track/4F7A0DXBrmUAkp3...</td>\n",
       "      <td>2017-01-01</td>\n",
       "      <td>us</td>\n",
       "    </tr>\n",
       "    <tr>\n",
       "      <th>771642</th>\n",
       "      <td>21</td>\n",
       "      <td>No Problem (feat. Lil Wayne &amp; 2 Chainz)</td>\n",
       "      <td>Chance The Rapper</td>\n",
       "      <td>449345</td>\n",
       "      <td>https://open.spotify.com/track/0v9Wz8o0BT8DU38...</td>\n",
       "      <td>2017-01-01</td>\n",
       "      <td>us</td>\n",
       "    </tr>\n",
       "    <tr>\n",
       "      <th>771643</th>\n",
       "      <td>22</td>\n",
       "      <td>No Heart</td>\n",
       "      <td>21 Savage</td>\n",
       "      <td>447063</td>\n",
       "      <td>https://open.spotify.com/track/4gmmRb6bZJffOOi...</td>\n",
       "      <td>2017-01-01</td>\n",
       "      <td>us</td>\n",
       "    </tr>\n",
       "    <tr>\n",
       "      <th>771644</th>\n",
       "      <td>23</td>\n",
       "      <td>Starving</td>\n",
       "      <td>Hailee Steinfeld</td>\n",
       "      <td>446785</td>\n",
       "      <td>https://open.spotify.com/track/1qOLh0tI7trd1zd...</td>\n",
       "      <td>2017-01-01</td>\n",
       "      <td>us</td>\n",
       "    </tr>\n",
       "    <tr>\n",
       "      <th>771645</th>\n",
       "      <td>24</td>\n",
       "      <td>Don't Let Me Down</td>\n",
       "      <td>The Chainsmokers</td>\n",
       "      <td>446177</td>\n",
       "      <td>https://open.spotify.com/track/0QsvXIfqM0zZoer...</td>\n",
       "      <td>2017-01-01</td>\n",
       "      <td>us</td>\n",
       "    </tr>\n",
       "    <tr>\n",
       "      <th>771646</th>\n",
       "      <td>25</td>\n",
       "      <td>Side To Side</td>\n",
       "      <td>Ariana Grande</td>\n",
       "      <td>440123</td>\n",
       "      <td>https://open.spotify.com/track/4pLwZjInHj3SimI...</td>\n",
       "      <td>2017-01-01</td>\n",
       "      <td>us</td>\n",
       "    </tr>\n",
       "    <tr>\n",
       "      <th>771647</th>\n",
       "      <td>26</td>\n",
       "      <td>Treat You Better</td>\n",
       "      <td>Shawn Mendes</td>\n",
       "      <td>438954</td>\n",
       "      <td>https://open.spotify.com/track/4Hf7WnR761jpxPr...</td>\n",
       "      <td>2017-01-01</td>\n",
       "      <td>us</td>\n",
       "    </tr>\n",
       "    <tr>\n",
       "      <th>771648</th>\n",
       "      <td>27</td>\n",
       "      <td>In the Name of Love</td>\n",
       "      <td>Martin Garrix</td>\n",
       "      <td>435945</td>\n",
       "      <td>https://open.spotify.com/track/04DwTuZ2VBdJCCC...</td>\n",
       "      <td>2017-01-01</td>\n",
       "      <td>us</td>\n",
       "    </tr>\n",
       "    <tr>\n",
       "      <th>771649</th>\n",
       "      <td>28</td>\n",
       "      <td>Sneakin’</td>\n",
       "      <td>Drake</td>\n",
       "      <td>419434</td>\n",
       "      <td>https://open.spotify.com/track/4ckuS4Nj4FZ7i3D...</td>\n",
       "      <td>2017-01-01</td>\n",
       "      <td>us</td>\n",
       "    </tr>\n",
       "    <tr>\n",
       "      <th>771650</th>\n",
       "      <td>29</td>\n",
       "      <td>CAN'T STOP THE FEELING! (Original Song from Dr...</td>\n",
       "      <td>Justin Timberlake</td>\n",
       "      <td>417329</td>\n",
       "      <td>https://open.spotify.com/track/6JV2JOEocMgcZxY...</td>\n",
       "      <td>2017-01-01</td>\n",
       "      <td>us</td>\n",
       "    </tr>\n",
       "    <tr>\n",
       "      <th>771651</th>\n",
       "      <td>30</td>\n",
       "      <td>Work from Home</td>\n",
       "      <td>Fifth Harmony</td>\n",
       "      <td>405483</td>\n",
       "      <td>https://open.spotify.com/track/4tCtwWceOPWzenK...</td>\n",
       "      <td>2017-01-01</td>\n",
       "      <td>us</td>\n",
       "    </tr>\n",
       "    <tr>\n",
       "      <th>...</th>\n",
       "      <td>...</td>\n",
       "      <td>...</td>\n",
       "      <td>...</td>\n",
       "      <td>...</td>\n",
       "      <td>...</td>\n",
       "      <td>...</td>\n",
       "      <td>...</td>\n",
       "    </tr>\n",
       "    <tr>\n",
       "      <th>3320410</th>\n",
       "      <td>171</td>\n",
       "      <td>Everybody Dies In Their Nightmares</td>\n",
       "      <td>XXXTENTACION</td>\n",
       "      <td>23772</td>\n",
       "      <td>https://open.spotify.com/track/3GVkPk8mqxz0ita...</td>\n",
       "      <td>2018-01-09</td>\n",
       "      <td>au</td>\n",
       "    </tr>\n",
       "    <tr>\n",
       "      <th>3320411</th>\n",
       "      <td>172</td>\n",
       "      <td>Swalla (feat. Nicki Minaj &amp; Ty Dolla $ign)</td>\n",
       "      <td>Jason Derulo</td>\n",
       "      <td>23765</td>\n",
       "      <td>https://open.spotify.com/track/6kex4EBAj0WHXDK...</td>\n",
       "      <td>2018-01-09</td>\n",
       "      <td>au</td>\n",
       "    </tr>\n",
       "    <tr>\n",
       "      <th>3320412</th>\n",
       "      <td>173</td>\n",
       "      <td>Deja Vu</td>\n",
       "      <td>Post Malone</td>\n",
       "      <td>23698</td>\n",
       "      <td>https://open.spotify.com/track/0H8XeaJunhvpBdB...</td>\n",
       "      <td>2018-01-09</td>\n",
       "      <td>au</td>\n",
       "    </tr>\n",
       "    <tr>\n",
       "      <th>3320413</th>\n",
       "      <td>174</td>\n",
       "      <td>Africa</td>\n",
       "      <td>Toto</td>\n",
       "      <td>23456</td>\n",
       "      <td>https://open.spotify.com/track/2374M0fQpWi3dLn...</td>\n",
       "      <td>2018-01-09</td>\n",
       "      <td>au</td>\n",
       "    </tr>\n",
       "    <tr>\n",
       "      <th>3320414</th>\n",
       "      <td>175</td>\n",
       "      <td>Slide</td>\n",
       "      <td>Calvin Harris</td>\n",
       "      <td>23442</td>\n",
       "      <td>https://open.spotify.com/track/7tr2za8SQg2CI8E...</td>\n",
       "      <td>2018-01-09</td>\n",
       "      <td>au</td>\n",
       "    </tr>\n",
       "    <tr>\n",
       "      <th>3320415</th>\n",
       "      <td>176</td>\n",
       "      <td>Notion</td>\n",
       "      <td>Tash Sultana</td>\n",
       "      <td>23384</td>\n",
       "      <td>https://open.spotify.com/track/6NosuXu0gXczpqy...</td>\n",
       "      <td>2018-01-09</td>\n",
       "      <td>au</td>\n",
       "    </tr>\n",
       "    <tr>\n",
       "      <th>3320416</th>\n",
       "      <td>177</td>\n",
       "      <td>Saved</td>\n",
       "      <td>Khalid</td>\n",
       "      <td>23304</td>\n",
       "      <td>https://open.spotify.com/track/248OFOZef6ShXv6...</td>\n",
       "      <td>2018-01-09</td>\n",
       "      <td>au</td>\n",
       "    </tr>\n",
       "    <tr>\n",
       "      <th>3320417</th>\n",
       "      <td>178</td>\n",
       "      <td>Million Man</td>\n",
       "      <td>The Rubens</td>\n",
       "      <td>23279</td>\n",
       "      <td>https://open.spotify.com/track/2sqV4WwUD6Rydqc...</td>\n",
       "      <td>2018-01-09</td>\n",
       "      <td>au</td>\n",
       "    </tr>\n",
       "    <tr>\n",
       "      <th>3320418</th>\n",
       "      <td>179</td>\n",
       "      <td>DNA.</td>\n",
       "      <td>Kendrick Lamar</td>\n",
       "      <td>23278</td>\n",
       "      <td>https://open.spotify.com/track/6HZILIRieu8S0iq...</td>\n",
       "      <td>2018-01-09</td>\n",
       "      <td>au</td>\n",
       "    </tr>\n",
       "    <tr>\n",
       "      <th>3320419</th>\n",
       "      <td>180</td>\n",
       "      <td>The Future (feat. Antony &amp; Cleopatra)</td>\n",
       "      <td>Motez</td>\n",
       "      <td>23189</td>\n",
       "      <td>https://open.spotify.com/track/5NQBZ9RAdV5Q6N7...</td>\n",
       "      <td>2018-01-09</td>\n",
       "      <td>au</td>\n",
       "    </tr>\n",
       "    <tr>\n",
       "      <th>3320420</th>\n",
       "      <td>181</td>\n",
       "      <td>Pumped Up Kicks</td>\n",
       "      <td>Foster The People</td>\n",
       "      <td>23046</td>\n",
       "      <td>https://open.spotify.com/track/7w87IxuO7BDcJ3Y...</td>\n",
       "      <td>2018-01-09</td>\n",
       "      <td>au</td>\n",
       "    </tr>\n",
       "    <tr>\n",
       "      <th>3320421</th>\n",
       "      <td>182</td>\n",
       "      <td>Adore</td>\n",
       "      <td>Amy Shark</td>\n",
       "      <td>22943</td>\n",
       "      <td>https://open.spotify.com/track/1rPCgtaIF0CyKRg...</td>\n",
       "      <td>2018-01-09</td>\n",
       "      <td>au</td>\n",
       "    </tr>\n",
       "    <tr>\n",
       "      <th>3320422</th>\n",
       "      <td>183</td>\n",
       "      <td>A Million Dreams (Reprise)</td>\n",
       "      <td>Austyn Johnson</td>\n",
       "      <td>22911</td>\n",
       "      <td>https://open.spotify.com/track/66y7x28jXOPrcmu...</td>\n",
       "      <td>2018-01-09</td>\n",
       "      <td>au</td>\n",
       "    </tr>\n",
       "    <tr>\n",
       "      <th>3320423</th>\n",
       "      <td>184</td>\n",
       "      <td>Riptide</td>\n",
       "      <td>Vance Joy</td>\n",
       "      <td>22836</td>\n",
       "      <td>https://open.spotify.com/track/7yq4Qj7cqayVTp3...</td>\n",
       "      <td>2018-01-09</td>\n",
       "      <td>au</td>\n",
       "    </tr>\n",
       "    <tr>\n",
       "      <th>3320424</th>\n",
       "      <td>185</td>\n",
       "      <td>Can't Hold Us - feat. Ray Dalton</td>\n",
       "      <td>Macklemore &amp; Ryan Lewis</td>\n",
       "      <td>22831</td>\n",
       "      <td>https://open.spotify.com/track/3bidbhpOYeV4knp...</td>\n",
       "      <td>2018-01-09</td>\n",
       "      <td>au</td>\n",
       "    </tr>\n",
       "    <tr>\n",
       "      <th>3320425</th>\n",
       "      <td>186</td>\n",
       "      <td>One Last Song</td>\n",
       "      <td>Sam Smith</td>\n",
       "      <td>22811</td>\n",
       "      <td>https://open.spotify.com/track/01uk7IzZyFNfQTD...</td>\n",
       "      <td>2018-01-09</td>\n",
       "      <td>au</td>\n",
       "    </tr>\n",
       "    <tr>\n",
       "      <th>3320426</th>\n",
       "      <td>187</td>\n",
       "      <td>Love$ick (feat. A$AP Rocky)</td>\n",
       "      <td>Mura Masa</td>\n",
       "      <td>22797</td>\n",
       "      <td>https://open.spotify.com/track/7Kq16WtEJzdRSNQ...</td>\n",
       "      <td>2018-01-09</td>\n",
       "      <td>au</td>\n",
       "    </tr>\n",
       "    <tr>\n",
       "      <th>3320427</th>\n",
       "      <td>188</td>\n",
       "      <td>Sober</td>\n",
       "      <td>G-Eazy</td>\n",
       "      <td>22606</td>\n",
       "      <td>https://open.spotify.com/track/3qk4wRMDlaeagZG...</td>\n",
       "      <td>2018-01-09</td>\n",
       "      <td>au</td>\n",
       "    </tr>\n",
       "    <tr>\n",
       "      <th>3320428</th>\n",
       "      <td>189</td>\n",
       "      <td>Cold Water (feat. Justin Bieber &amp; MØ)</td>\n",
       "      <td>Major Lazer</td>\n",
       "      <td>22520</td>\n",
       "      <td>https://open.spotify.com/track/6DNtNfH8hXkqOX1...</td>\n",
       "      <td>2018-01-09</td>\n",
       "      <td>au</td>\n",
       "    </tr>\n",
       "    <tr>\n",
       "      <th>3320429</th>\n",
       "      <td>190</td>\n",
       "      <td>All Falls Down</td>\n",
       "      <td>Alan Walker</td>\n",
       "      <td>22254</td>\n",
       "      <td>https://open.spotify.com/track/5yFSF6qQA1rcLsQ...</td>\n",
       "      <td>2018-01-09</td>\n",
       "      <td>au</td>\n",
       "    </tr>\n",
       "    <tr>\n",
       "      <th>3320430</th>\n",
       "      <td>191</td>\n",
       "      <td>I'm Yours</td>\n",
       "      <td>Jason Mraz</td>\n",
       "      <td>22236</td>\n",
       "      <td>https://open.spotify.com/track/3S0OXQeoh0w6AY8...</td>\n",
       "      <td>2018-01-09</td>\n",
       "      <td>au</td>\n",
       "    </tr>\n",
       "    <tr>\n",
       "      <th>3320431</th>\n",
       "      <td>192</td>\n",
       "      <td>Questions</td>\n",
       "      <td>Chris Brown</td>\n",
       "      <td>22214</td>\n",
       "      <td>https://open.spotify.com/track/3ojTJaonfkL96iI...</td>\n",
       "      <td>2018-01-09</td>\n",
       "      <td>au</td>\n",
       "    </tr>\n",
       "    <tr>\n",
       "      <th>3320432</th>\n",
       "      <td>193</td>\n",
       "      <td>Love Galore</td>\n",
       "      <td>SZA</td>\n",
       "      <td>22209</td>\n",
       "      <td>https://open.spotify.com/track/0q75NwOoFiARAVp...</td>\n",
       "      <td>2018-01-09</td>\n",
       "      <td>au</td>\n",
       "    </tr>\n",
       "    <tr>\n",
       "      <th>3320433</th>\n",
       "      <td>194</td>\n",
       "      <td>Love Yourself</td>\n",
       "      <td>Justin Bieber</td>\n",
       "      <td>22187</td>\n",
       "      <td>https://open.spotify.com/track/3hB5DgAiMAQ4DzY...</td>\n",
       "      <td>2018-01-09</td>\n",
       "      <td>au</td>\n",
       "    </tr>\n",
       "    <tr>\n",
       "      <th>3320434</th>\n",
       "      <td>195</td>\n",
       "      <td>Uptown Funk</td>\n",
       "      <td>Mark Ronson</td>\n",
       "      <td>22131</td>\n",
       "      <td>https://open.spotify.com/track/32OlwWuMpZ6b0aN...</td>\n",
       "      <td>2018-01-09</td>\n",
       "      <td>au</td>\n",
       "    </tr>\n",
       "    <tr>\n",
       "      <th>3320435</th>\n",
       "      <td>196</td>\n",
       "      <td>Second Hand Car</td>\n",
       "      <td>Kim Churchill</td>\n",
       "      <td>22107</td>\n",
       "      <td>https://open.spotify.com/track/2smSAM83X6eOLUg...</td>\n",
       "      <td>2018-01-09</td>\n",
       "      <td>au</td>\n",
       "    </tr>\n",
       "    <tr>\n",
       "      <th>3320436</th>\n",
       "      <td>197</td>\n",
       "      <td>Gold Digger</td>\n",
       "      <td>Kanye West</td>\n",
       "      <td>22091</td>\n",
       "      <td>https://open.spotify.com/track/5XJJdNPkwmbUwE7...</td>\n",
       "      <td>2018-01-09</td>\n",
       "      <td>au</td>\n",
       "    </tr>\n",
       "    <tr>\n",
       "      <th>3320437</th>\n",
       "      <td>198</td>\n",
       "      <td>Stir Fry</td>\n",
       "      <td>Migos</td>\n",
       "      <td>22016</td>\n",
       "      <td>https://open.spotify.com/track/4fndbjoz1qJyK6J...</td>\n",
       "      <td>2018-01-09</td>\n",
       "      <td>au</td>\n",
       "    </tr>\n",
       "    <tr>\n",
       "      <th>3320438</th>\n",
       "      <td>199</td>\n",
       "      <td>MIC Drop (feat. Desiigner) [Steve Aoki Remix]</td>\n",
       "      <td>BTS</td>\n",
       "      <td>21949</td>\n",
       "      <td>https://open.spotify.com/track/7Ed6BkggCS2KaKY...</td>\n",
       "      <td>2018-01-09</td>\n",
       "      <td>au</td>\n",
       "    </tr>\n",
       "    <tr>\n",
       "      <th>3320439</th>\n",
       "      <td>200</td>\n",
       "      <td>Rockabye (feat. Sean Paul &amp; Anne-Marie)</td>\n",
       "      <td>Clean Bandit</td>\n",
       "      <td>21892</td>\n",
       "      <td>https://open.spotify.com/track/5knuzwU65gJK7IF...</td>\n",
       "      <td>2018-01-09</td>\n",
       "      <td>au</td>\n",
       "    </tr>\n",
       "  </tbody>\n",
       "</table>\n",
       "<p>667800 rows × 7 columns</p>\n",
       "</div>"
      ],
      "text/plain": [
       "         Position                                         Track Name  \\\n",
       "771622          1                Bad and Boujee (feat. Lil Uzi Vert)   \n",
       "771623          2                                          Fake Love   \n",
       "771624          3                                            Starboy   \n",
       "771625          4                                             Closer   \n",
       "771626          5                                      Black Beatles   \n",
       "771627          6                        Broccoli (feat. Lil Yachty)   \n",
       "771628          7                                          One Dance   \n",
       "771629          8                                           Caroline   \n",
       "771630          9                                    Let Me Love You   \n",
       "771631         10                                        Bounce Back   \n",
       "771632         11                                   I Feel It Coming   \n",
       "771633         12                                          24K Magic   \n",
       "771634         13                   Bad Things (with Camila Cabello)   \n",
       "771635         14                                   X (feat. Future)   \n",
       "771636         15  I Don’t Wanna Live Forever (Fifty Shades Darke...   \n",
       "771637         16                                   Don't Wanna Know   \n",
       "771638         17                                         Chill Bill   \n",
       "771639         18                                            Deja Vu   \n",
       "771640         19                                             OOOUUU   \n",
       "771641         20                                      Party Monster   \n",
       "771642         21            No Problem (feat. Lil Wayne & 2 Chainz)   \n",
       "771643         22                                           No Heart   \n",
       "771644         23                                           Starving   \n",
       "771645         24                                  Don't Let Me Down   \n",
       "771646         25                                       Side To Side   \n",
       "771647         26                                   Treat You Better   \n",
       "771648         27                                In the Name of Love   \n",
       "771649         28                                           Sneakin’   \n",
       "771650         29  CAN'T STOP THE FEELING! (Original Song from Dr...   \n",
       "771651         30                                     Work from Home   \n",
       "...           ...                                                ...   \n",
       "3320410       171                 Everybody Dies In Their Nightmares   \n",
       "3320411       172         Swalla (feat. Nicki Minaj & Ty Dolla $ign)   \n",
       "3320412       173                                            Deja Vu   \n",
       "3320413       174                                             Africa   \n",
       "3320414       175                                              Slide   \n",
       "3320415       176                                             Notion   \n",
       "3320416       177                                              Saved   \n",
       "3320417       178                                        Million Man   \n",
       "3320418       179                                               DNA.   \n",
       "3320419       180              The Future (feat. Antony & Cleopatra)   \n",
       "3320420       181                                    Pumped Up Kicks   \n",
       "3320421       182                                              Adore   \n",
       "3320422       183                         A Million Dreams (Reprise)   \n",
       "3320423       184                                            Riptide   \n",
       "3320424       185                   Can't Hold Us - feat. Ray Dalton   \n",
       "3320425       186                                      One Last Song   \n",
       "3320426       187                        Love$ick (feat. A$AP Rocky)   \n",
       "3320427       188                                              Sober   \n",
       "3320428       189              Cold Water (feat. Justin Bieber & MØ)   \n",
       "3320429       190                                     All Falls Down   \n",
       "3320430       191                                          I'm Yours   \n",
       "3320431       192                                          Questions   \n",
       "3320432       193                                        Love Galore   \n",
       "3320433       194                                      Love Yourself   \n",
       "3320434       195                                        Uptown Funk   \n",
       "3320435       196                                    Second Hand Car   \n",
       "3320436       197                                        Gold Digger   \n",
       "3320437       198                                           Stir Fry   \n",
       "3320438       199      MIC Drop (feat. Desiigner) [Steve Aoki Remix]   \n",
       "3320439       200            Rockabye (feat. Sean Paul & Anne-Marie)   \n",
       "\n",
       "                          Artist  Streams  \\\n",
       "771622                     Migos  1371493   \n",
       "771623                     Drake  1180074   \n",
       "771624                The Weeknd  1064351   \n",
       "771625          The Chainsmokers  1010492   \n",
       "771626              Rae Sremmurd   874289   \n",
       "771627                      DRAM   763259   \n",
       "771628                     Drake   753150   \n",
       "771629                     Aminé   714839   \n",
       "771630                  DJ Snake   690483   \n",
       "771631                  Big Sean   682688   \n",
       "771632                The Weeknd   651807   \n",
       "771633                Bruno Mars   574974   \n",
       "771634         Machine Gun Kelly   567789   \n",
       "771635                 21 Savage   544620   \n",
       "771636                      ZAYN   507450   \n",
       "771637                  Maroon 5   486364   \n",
       "771638                 Rob $tone   485127   \n",
       "771639                   J. Cole   478503   \n",
       "771640                 Young M.A   456308   \n",
       "771641                The Weeknd   456291   \n",
       "771642         Chance The Rapper   449345   \n",
       "771643                 21 Savage   447063   \n",
       "771644          Hailee Steinfeld   446785   \n",
       "771645          The Chainsmokers   446177   \n",
       "771646             Ariana Grande   440123   \n",
       "771647              Shawn Mendes   438954   \n",
       "771648             Martin Garrix   435945   \n",
       "771649                     Drake   419434   \n",
       "771650         Justin Timberlake   417329   \n",
       "771651             Fifth Harmony   405483   \n",
       "...                          ...      ...   \n",
       "3320410             XXXTENTACION    23772   \n",
       "3320411             Jason Derulo    23765   \n",
       "3320412              Post Malone    23698   \n",
       "3320413                     Toto    23456   \n",
       "3320414            Calvin Harris    23442   \n",
       "3320415             Tash Sultana    23384   \n",
       "3320416                   Khalid    23304   \n",
       "3320417               The Rubens    23279   \n",
       "3320418           Kendrick Lamar    23278   \n",
       "3320419                    Motez    23189   \n",
       "3320420        Foster The People    23046   \n",
       "3320421                Amy Shark    22943   \n",
       "3320422           Austyn Johnson    22911   \n",
       "3320423                Vance Joy    22836   \n",
       "3320424  Macklemore & Ryan Lewis    22831   \n",
       "3320425                Sam Smith    22811   \n",
       "3320426                Mura Masa    22797   \n",
       "3320427                   G-Eazy    22606   \n",
       "3320428              Major Lazer    22520   \n",
       "3320429              Alan Walker    22254   \n",
       "3320430               Jason Mraz    22236   \n",
       "3320431              Chris Brown    22214   \n",
       "3320432                      SZA    22209   \n",
       "3320433            Justin Bieber    22187   \n",
       "3320434              Mark Ronson    22131   \n",
       "3320435            Kim Churchill    22107   \n",
       "3320436               Kanye West    22091   \n",
       "3320437                    Migos    22016   \n",
       "3320438                      BTS    21949   \n",
       "3320439             Clean Bandit    21892   \n",
       "\n",
       "                                                       URL        Date Region  \n",
       "771622   https://open.spotify.com/track/4Km5HrUvYTaSUfi...  2017-01-01     us  \n",
       "771623   https://open.spotify.com/track/343YBumqHu19cGo...  2017-01-01     us  \n",
       "771624   https://open.spotify.com/track/5aAx2yezTd8zXrk...  2017-01-01     us  \n",
       "771625   https://open.spotify.com/track/7BKLCZ1jbUBVqRi...  2017-01-01     us  \n",
       "771626   https://open.spotify.com/track/6fujklziTHa8uoM...  2017-01-01     us  \n",
       "771627   https://open.spotify.com/track/7yyRTcZmCiyzzJl...  2017-01-01     us  \n",
       "771628   https://open.spotify.com/track/1xznGGDReH1oQq0...  2017-01-01     us  \n",
       "771629   https://open.spotify.com/track/7FB8l7UA1HKqnuS...  2017-01-01     us  \n",
       "771630   https://open.spotify.com/track/4pdPtRcBmOSQDlJ...  2017-01-01     us  \n",
       "771631   https://open.spotify.com/track/0SGkqnVQo9KPytS...  2017-01-01     us  \n",
       "771632   https://open.spotify.com/track/5GXAXm5YOmYT0kL...  2017-01-01     us  \n",
       "771633   https://open.spotify.com/track/6b8Be6ljOzmkOmF...  2017-01-01     us  \n",
       "771634   https://open.spotify.com/track/1PSBzsahR2AKwLJ...  2017-01-01     us  \n",
       "771635   https://open.spotify.com/track/6fwdbPMwP1zVStm...  2017-01-01     us  \n",
       "771636   https://open.spotify.com/track/3NdDpSvN911VPGi...  2017-01-01     us  \n",
       "771637   https://open.spotify.com/track/5MFzQMkrl1FOOng...  2017-01-01     us  \n",
       "771638   https://open.spotify.com/track/5uDASfU19gDxSjW...  2017-01-01     us  \n",
       "771639   https://open.spotify.com/track/6I6NX6tjGsxFAsI...  2017-01-01     us  \n",
       "771640   https://open.spotify.com/track/7JYsArznYOjX2js...  2017-01-01     us  \n",
       "771641   https://open.spotify.com/track/4F7A0DXBrmUAkp3...  2017-01-01     us  \n",
       "771642   https://open.spotify.com/track/0v9Wz8o0BT8DU38...  2017-01-01     us  \n",
       "771643   https://open.spotify.com/track/4gmmRb6bZJffOOi...  2017-01-01     us  \n",
       "771644   https://open.spotify.com/track/1qOLh0tI7trd1zd...  2017-01-01     us  \n",
       "771645   https://open.spotify.com/track/0QsvXIfqM0zZoer...  2017-01-01     us  \n",
       "771646   https://open.spotify.com/track/4pLwZjInHj3SimI...  2017-01-01     us  \n",
       "771647   https://open.spotify.com/track/4Hf7WnR761jpxPr...  2017-01-01     us  \n",
       "771648   https://open.spotify.com/track/04DwTuZ2VBdJCCC...  2017-01-01     us  \n",
       "771649   https://open.spotify.com/track/4ckuS4Nj4FZ7i3D...  2017-01-01     us  \n",
       "771650   https://open.spotify.com/track/6JV2JOEocMgcZxY...  2017-01-01     us  \n",
       "771651   https://open.spotify.com/track/4tCtwWceOPWzenK...  2017-01-01     us  \n",
       "...                                                    ...         ...    ...  \n",
       "3320410  https://open.spotify.com/track/3GVkPk8mqxz0ita...  2018-01-09     au  \n",
       "3320411  https://open.spotify.com/track/6kex4EBAj0WHXDK...  2018-01-09     au  \n",
       "3320412  https://open.spotify.com/track/0H8XeaJunhvpBdB...  2018-01-09     au  \n",
       "3320413  https://open.spotify.com/track/2374M0fQpWi3dLn...  2018-01-09     au  \n",
       "3320414  https://open.spotify.com/track/7tr2za8SQg2CI8E...  2018-01-09     au  \n",
       "3320415  https://open.spotify.com/track/6NosuXu0gXczpqy...  2018-01-09     au  \n",
       "3320416  https://open.spotify.com/track/248OFOZef6ShXv6...  2018-01-09     au  \n",
       "3320417  https://open.spotify.com/track/2sqV4WwUD6Rydqc...  2018-01-09     au  \n",
       "3320418  https://open.spotify.com/track/6HZILIRieu8S0iq...  2018-01-09     au  \n",
       "3320419  https://open.spotify.com/track/5NQBZ9RAdV5Q6N7...  2018-01-09     au  \n",
       "3320420  https://open.spotify.com/track/7w87IxuO7BDcJ3Y...  2018-01-09     au  \n",
       "3320421  https://open.spotify.com/track/1rPCgtaIF0CyKRg...  2018-01-09     au  \n",
       "3320422  https://open.spotify.com/track/66y7x28jXOPrcmu...  2018-01-09     au  \n",
       "3320423  https://open.spotify.com/track/7yq4Qj7cqayVTp3...  2018-01-09     au  \n",
       "3320424  https://open.spotify.com/track/3bidbhpOYeV4knp...  2018-01-09     au  \n",
       "3320425  https://open.spotify.com/track/01uk7IzZyFNfQTD...  2018-01-09     au  \n",
       "3320426  https://open.spotify.com/track/7Kq16WtEJzdRSNQ...  2018-01-09     au  \n",
       "3320427  https://open.spotify.com/track/3qk4wRMDlaeagZG...  2018-01-09     au  \n",
       "3320428  https://open.spotify.com/track/6DNtNfH8hXkqOX1...  2018-01-09     au  \n",
       "3320429  https://open.spotify.com/track/5yFSF6qQA1rcLsQ...  2018-01-09     au  \n",
       "3320430  https://open.spotify.com/track/3S0OXQeoh0w6AY8...  2018-01-09     au  \n",
       "3320431  https://open.spotify.com/track/3ojTJaonfkL96iI...  2018-01-09     au  \n",
       "3320432  https://open.spotify.com/track/0q75NwOoFiARAVp...  2018-01-09     au  \n",
       "3320433  https://open.spotify.com/track/3hB5DgAiMAQ4DzY...  2018-01-09     au  \n",
       "3320434  https://open.spotify.com/track/32OlwWuMpZ6b0aN...  2018-01-09     au  \n",
       "3320435  https://open.spotify.com/track/2smSAM83X6eOLUg...  2018-01-09     au  \n",
       "3320436  https://open.spotify.com/track/5XJJdNPkwmbUwE7...  2018-01-09     au  \n",
       "3320437  https://open.spotify.com/track/4fndbjoz1qJyK6J...  2018-01-09     au  \n",
       "3320438  https://open.spotify.com/track/7Ed6BkggCS2KaKY...  2018-01-09     au  \n",
       "3320439  https://open.spotify.com/track/5knuzwU65gJK7IF...  2018-01-09     au  \n",
       "\n",
       "[667800 rows x 7 columns]"
      ]
     },
     "execution_count": 46,
     "metadata": {},
     "output_type": "execute_result"
    }
   ],
   "source": [
    "song_top10"
   ]
  },
  {
   "cell_type": "code",
   "execution_count": 3,
   "metadata": {},
   "outputs": [],
   "source": [
    "## clean genius lyrics\n",
    "geniusLyricsFil = geniusLyrics[geniusLyrics['lyricsGenius'] != 'Err']"
   ]
  },
  {
   "cell_type": "code",
   "execution_count": 54,
   "metadata": {},
   "outputs": [],
   "source": [
    "spotifyFeatures = spotifyFeatures.drop_duplicates(['Track Name','Artist'])"
   ]
  },
  {
   "cell_type": "code",
   "execution_count": 131,
   "metadata": {},
   "outputs": [],
   "source": [
    "geniusLyricsFil.drop(['index','Unnamed: 0'],1).reset_index().drop('index',1).to_csv('filteredGeniusLyrics5540.csv')"
   ]
  },
  {
   "cell_type": "code",
   "execution_count": 243,
   "metadata": {},
   "outputs": [],
   "source": [
    "songMetadata = geniusLyricsFil.reset_index(drop=True).merge(spotifyFeatures.drop_duplicates(['Track Name','Artist']),on=['Track Name','Artist']).drop(['lyricsGenius',\n",
    "                                                                                  'Unnamed: 0_x',\n",
    "                                                                                  'Unnamed: 0_y','URL','id','index'],axis=1)"
   ]
  },
  {
   "cell_type": "code",
   "execution_count": null,
   "metadata": {},
   "outputs": [],
   "source": [
    "#geniusLyricsFil.drop_duplicates(['Track Name','Artist'])\n",
    "songMetadata.isnull().sum()"
   ]
  },
  {
   "cell_type": "code",
   "execution_count": 245,
   "metadata": {},
   "outputs": [],
   "source": [
    "#sum(songMetadata.instrumentalness == 0)\n",
    "#pd.Series(np.log(songMetadata.instrumentalness + 1e-6)).hist()\n",
    "key_oh =pd.get_dummies(songMetadata.key)\n",
    "ohc = key_oh.columns\n",
    "ohc = ['is_key_%d'%c for c in ohc]\n",
    "key_oh.columns = ohc\n",
    "songMetadata = pd.concat([songMetadata,key_oh],1)\n",
    "songMetadata = songMetadata.drop('key',axis=1)"
   ]
  },
  {
   "cell_type": "code",
   "execution_count": 251,
   "metadata": {},
   "outputs": [],
   "source": [
    "songMetadata.to_csv('songMetadata.csv')"
   ]
  },
  {
   "cell_type": "code",
   "execution_count": null,
   "metadata": {},
   "outputs": [],
   "source": []
  },
  {
   "cell_type": "code",
   "execution_count": 4,
   "metadata": {},
   "outputs": [],
   "source": [
    "def filterSongLyric(lyric,wordArr):\n",
    "    for word in wordArr:\n",
    "        lyric = lyric.replace(word,'')\n",
    "    return lyric"
   ]
  },
  {
   "cell_type": "code",
   "execution_count": 5,
   "metadata": {},
   "outputs": [],
   "source": [
    "wordArr = ['Intro','\\n','\\\\',\"\\'\",'Verse','[',']','Chorus','Intro']"
   ]
  },
  {
   "cell_type": "code",
   "execution_count": 6,
   "metadata": {},
   "outputs": [],
   "source": [
    "doc_lyr_initial = [filterSongLyric(x,wordArr) for x in geniusLyricsFil['lyricsGenius']]"
   ]
  },
  {
   "cell_type": "markdown",
   "metadata": {},
   "source": [
    "## LDA TEST"
   ]
  },
  {
   "cell_type": "code",
   "execution_count": 9,
   "metadata": {},
   "outputs": [],
   "source": [
    "doc1 = \"Sugar is bad to consume. My sister likes to have sugar, but not my father.\"\n",
    "doc2 = \"My father spends a lot of time driving my sister around to dance practice.\"\n",
    "doc3 = \"Doctors suggest that driving may cause increased stress and blood pressure.\"\n",
    "doc4 = \"Sometimes I feel pressure to perform well at school, but my father never seems to drive my sister to do better.\"\n",
    "doc5 = \"Health experts say that Sugar is not good for your lifestyle.\"\n",
    "\n",
    "# compile documents\n",
    "doc_complete = [doc1, doc2, doc3, doc4, doc5]"
   ]
  },
  {
   "cell_type": "code",
   "execution_count": null,
   "metadata": {},
   "outputs": [],
   "source": [
    "import nltk\n",
    "nltk.download()"
   ]
  },
  {
   "cell_type": "code",
   "execution_count": 72,
   "metadata": {},
   "outputs": [],
   "source": [
    "from nltk.corpus import stopwords \n",
    "from nltk.stem.wordnet import WordNetLemmatizer\n",
    "import string\n",
    "stop = set(stopwords.words('english'))\n",
    "stop = stop\n",
    "exclude = set(string.punctuation) \n",
    "lemma = WordNetLemmatizer()\n",
    "def clean(doc):\n",
    "    stop_free = \" \".join([i for i in doc.lower().split() if i not in stop])\n",
    "    punc_free = ''.join(ch for ch in stop_free if ch not in exclude)\n",
    "    normalized = \" \".join(lemma.lemmatize(word) for word in punc_free.split())\n",
    "    return normalized\n",
    "\n",
    "doc_clean = [clean(doc).split() for doc in doc_lyr_initial]"
   ]
  },
  {
   "cell_type": "code",
   "execution_count": null,
   "metadata": {},
   "outputs": [],
   "source": [
    "! pip install gensim"
   ]
  },
  {
   "cell_type": "code",
   "execution_count": 73,
   "metadata": {},
   "outputs": [],
   "source": [
    "import gensim\n",
    "from gensim import corpora\n",
    "\n",
    "# Creating the term dictionary of our courpus, where every unique term is assigned an \n",
    "dictionary = corpora.Dictionary(doc_clean)\n",
    "\n",
    "# Converting list of documents (corpus) into Document Term Matrix using dictionary prepared above.\n",
    "doc_term_matrix = [dictionary.doc2bow(doc) for doc in doc_clean]"
   ]
  },
  {
   "cell_type": "code",
   "execution_count": 74,
   "metadata": {},
   "outputs": [],
   "source": [
    "Lda = gensim.models.ldamodel.LdaModel\n",
    "\n",
    "# Running and Trainign LDA model on the document term matrix.\n",
    "ldamodel = Lda(doc_term_matrix, num_topics=7, id2word = dictionary, passes=50)"
   ]
  },
  {
   "cell_type": "code",
   "execution_count": 79,
   "metadata": {},
   "outputs": [
    {
     "data": {
      "text/plain": [
       "[(3, 0.9961006)]"
      ]
     },
     "execution_count": 79,
     "metadata": {},
     "output_type": "execute_result"
    }
   ],
   "source": []
  },
  {
   "cell_type": "code",
   "execution_count": 100,
   "metadata": {},
   "outputs": [
    {
     "data": {
      "text/plain": [
       "5540"
      ]
     },
     "execution_count": 100,
     "metadata": {},
     "output_type": "execute_result"
    }
   ],
   "source": [
    "len(doc_clean)"
   ]
  },
  {
   "cell_type": "markdown",
   "metadata": {},
   "source": [
    "# DTM PCA"
   ]
  },
  {
   "cell_type": "code",
   "execution_count": 202,
   "metadata": {},
   "outputs": [],
   "source": [
    "dtm = np.array([np.array(v) for v in doc_term_matrix])"
   ]
  },
  {
   "cell_type": "code",
   "execution_count": 203,
   "metadata": {},
   "outputs": [
    {
     "data": {
      "text/plain": [
       "(5540,)"
      ]
     },
     "execution_count": 203,
     "metadata": {},
     "output_type": "execute_result"
    }
   ],
   "source": [
    "dtm.shape"
   ]
  },
  {
   "cell_type": "code",
   "execution_count": 204,
   "metadata": {},
   "outputs": [],
   "source": [
    "from sklearn.feature_extraction.text import CountVectorizer"
   ]
  },
  {
   "cell_type": "code",
   "execution_count": 205,
   "metadata": {},
   "outputs": [],
   "source": [
    "vectorizer = CountVectorizer(decode_error = 'ignore', stop_words = 'english',min_df = 8)"
   ]
  },
  {
   "cell_type": "code",
   "execution_count": 206,
   "metadata": {},
   "outputs": [],
   "source": [
    "X = vectorizer.fit_transform(doc_lyr_initial).toarray()"
   ]
  },
  {
   "cell_type": "code",
   "execution_count": 116,
   "metadata": {},
   "outputs": [],
   "source": [
    "Xv = vectorizer.fit_transform(doc_lyr_initial)"
   ]
  },
  {
   "cell_type": "code",
   "execution_count": 207,
   "metadata": {},
   "outputs": [
    {
     "data": {
      "text/plain": [
       "(5540, 9030)"
      ]
     },
     "execution_count": 207,
     "metadata": {},
     "output_type": "execute_result"
    }
   ],
   "source": [
    "X.shape"
   ]
  },
  {
   "cell_type": "code",
   "execution_count": 16,
   "metadata": {},
   "outputs": [],
   "source": [
    "np.save('DTM_lyr.npy',X)"
   ]
  },
  {
   "cell_type": "code",
   "execution_count": 208,
   "metadata": {},
   "outputs": [],
   "source": [
    "from sklearn.decomposition import PCA\n",
    "pca_model = PCA(n_components = 1000)"
   ]
  },
  {
   "cell_type": "code",
   "execution_count": null,
   "metadata": {},
   "outputs": [],
   "source": [
    "pca_fitmod = pca_model.fit(X)"
   ]
  },
  {
   "cell_type": "code",
   "execution_count": null,
   "metadata": {},
   "outputs": [],
   "source": []
  },
  {
   "cell_type": "code",
   "execution_count": 43,
   "metadata": {},
   "outputs": [],
   "source": [
    "variance = pca_fitmod.explained_variance_ratio_ #calculate variance ratios                                        \n",
    "cv=np.cumsum(np.round(pca_model.explained_variance_ratio_,decimals=3)*100)"
   ]
  },
  {
   "cell_type": "code",
   "execution_count": 47,
   "metadata": {},
   "outputs": [
    {
     "data": {
      "image/png": "[encoded data removed]",
      "text/plain": [
       "<matplotlib.figure.Figure at 0x7fa87203f898>"
      ]
     },
     "metadata": {},
     "output_type": "display_data"
    }
   ],
   "source": [
    "plt.plot(range(1,1001),cv, c='blue', marker='o')\n",
    "plt.title('Variance in Document Term Matrix PCA')\n",
    "plt.ylabel('Total Variance')\n",
    "plt.xlabel('Number of Components')\n",
    "#plt.show()\n",
    "plt.savefig('VarianceDTM.png')\n",
    "\n"
   ]
  },
  {
   "cell_type": "code",
   "execution_count": 210,
   "metadata": {},
   "outputs": [],
   "source": [
    "pca_model = PCA(n_components = 300)\n",
    "pca_fitmod = pca_model.fit(X)\n",
    "pca_x = pca_fitmod.fit_transform(X)"
   ]
  },
  {
   "cell_type": "code",
   "execution_count": null,
   "metadata": {},
   "outputs": [],
   "source": []
  },
  {
   "cell_type": "code",
   "execution_count": 212,
   "metadata": {},
   "outputs": [],
   "source": [
    "pca_xd = pd.DataFrame(pca_x)\n",
    "pccol = ['pca_feat_%d'%c for c in pca_xd.columns]\n",
    "pca_xd.columns = pccol"
   ]
  },
  {
   "cell_type": "code",
   "execution_count": 217,
   "metadata": {},
   "outputs": [],
   "source": [
    "pca_dtm = pd.concat([geniusLyricsFil.reset_index().drop(['index',\\\n",
    "                                                        'Unnamed: 0'],1),pca_xd],1).drop('lyricsGenius',1)"
   ]
  },
  {
   "cell_type": "code",
   "execution_count": 219,
   "metadata": {},
   "outputs": [],
   "source": [
    "pca_dtm.to_csv('pca_dtm.csv')"
   ]
  },
  {
   "cell_type": "markdown",
   "metadata": {},
   "source": [
    "## KMEANS LDA"
   ]
  },
  {
   "cell_type": "code",
   "execution_count": 65,
   "metadata": {},
   "outputs": [],
   "source": [
    "# X can still be used\n",
    "def KMeansTest(data):\n",
    "    res = []\n",
    "    for i in range(1,11):\n",
    "        km = KMeans(i,'random', max_iter=300, random_state=0, n_init=30)\n",
    "        km_fit = km.fit(data)\n",
    "        res.append(km_fit.inertia_)\n",
    "    return res"
   ]
  },
  {
   "cell_type": "code",
   "execution_count": 66,
   "metadata": {},
   "outputs": [],
   "source": [
    "from sklearn.cluster import KMeans"
   ]
  },
  {
   "cell_type": "code",
   "execution_count": 67,
   "metadata": {},
   "outputs": [],
   "source": [
    "distortion = KMeansTest(X)"
   ]
  },
  {
   "cell_type": "code",
   "execution_count": 70,
   "metadata": {},
   "outputs": [
    {
     "data": {
      "image/png": "[encoded data removed]",
      "text/plain": [
       "<matplotlib.figure.Figure at 0x7fa8567d6a58>"
      ]
     },
     "metadata": {},
     "output_type": "display_data"
    }
   ],
   "source": [
    "plt.plot(range(1,11),distortion, c='blue', marker='o')\n",
    "plt.title('Distortion Error over clusters')\n",
    "plt.ylabel('Distortion Error')\n",
    "plt.xlabel('Number of Clusters')\n",
    "plt.savefig('DistortionErr.png')"
   ]
  },
  {
   "cell_type": "code",
   "execution_count": 80,
   "metadata": {},
   "outputs": [],
   "source": [
    "# 7 is the magic number\n",
    "#LDA sklearn\n",
    "from sklearn.decomposition import LatentDirichletAllocation"
   ]
  },
  {
   "cell_type": "code",
   "execution_count": 81,
   "metadata": {},
   "outputs": [],
   "source": [
    "lda = LatentDirichletAllocation(n_components=7)"
   ]
  },
  {
   "cell_type": "code",
   "execution_count": 84,
   "metadata": {},
   "outputs": [
    {
     "name": "stderr",
     "output_type": "stream",
     "text": [
      "/opt/conda/lib/python3.6/site-packages/sklearn/decomposition/online_lda.py:536: DeprecationWarning: The default value for 'learning_method' will be changed from 'online' to 'batch' in the release 0.20. This warning was introduced in 0.18.\n",
      "  DeprecationWarning)\n"
     ]
    }
   ],
   "source": [
    "ldaFit = lda.fit(X)"
   ]
  },
  {
   "cell_type": "code",
   "execution_count": 86,
   "metadata": {},
   "outputs": [],
   "source": [
    "pred = ldaFit.transform(X)"
   ]
  },
  {
   "cell_type": "code",
   "execution_count": null,
   "metadata": {},
   "outputs": [],
   "source": [
    "def display_topics(model, feature_names, no_top_words):\n",
    "    for topic_idx, topic in enumerate(model.components_):\n",
    "        print (\"Topic %d:\" % (topic_idx))\n",
    "        print (\" \".join([feature_names[i] \\\n",
    "                        for i in topic.argsort()[:-no_top_words - 1:-1]]))\n",
    "\n",
    "no_top_words = 10\n",
    "#display_topics(nmf, tfidf_feature_names, no_top_words)\n",
    "display_topics(ldaFit, vectorizer.get_feature_names(), 10)\n"
   ]
  },
  {
   "cell_type": "code",
   "execution_count": 91,
   "metadata": {},
   "outputs": [],
   "source": [
    "topicList = np.argmax(pred,1)"
   ]
  },
  {
   "cell_type": "code",
   "execution_count": 104,
   "metadata": {},
   "outputs": [],
   "source": [
    "# convert to dataframe and add\n",
    "topicCategories = pd.get_dummies(topicList)"
   ]
  },
  {
   "cell_type": "code",
   "execution_count": 122,
   "metadata": {},
   "outputs": [],
   "source": [
    "topicCol = ['love','Uncertainty','Explictives','German','Swedish','Dutch','Spanish']\n",
    "topicCategories.columns = topicCol"
   ]
  },
  {
   "cell_type": "code",
   "execution_count": 220,
   "metadata": {},
   "outputs": [],
   "source": [
    "lda_top = pd.concat([geniusLyricsFil.reset_index().drop(['index',\\\n",
    "                                                        'Unnamed: 0'],1),topicCategories],1).drop('lyricsGenius',1)"
   ]
  },
  {
   "cell_type": "code",
   "execution_count": 222,
   "metadata": {},
   "outputs": [],
   "source": [
    "lda_top = lda_top.drop(['level_0'],1)"
   ]
  },
  {
   "cell_type": "code",
   "execution_count": 223,
   "metadata": {},
   "outputs": [],
   "source": [
    "lda_top.to_csv('ldaTop.csv')"
   ]
  },
  {
   "cell_type": "markdown",
   "metadata": {},
   "source": [
    "## Google Word Vec"
   ]
  },
  {
   "cell_type": "code",
   "execution_count": 132,
   "metadata": {},
   "outputs": [
    {
     "name": "stdout",
     "output_type": "stream",
     "text": [
      "Collecting word2vec\n",
      "  Downloading https://files.pythonhosted.org/packages/5b/33/8e1cf93216342f0fe8aa4484ef1a833a12c4f6d6bf8e8b46ecc0feb5e5e8/word2vec-0.9.2.tar.gz (51kB)\n",
      "\u001b[K    100% |████████████████████████████████| 61kB 834kB/s ta 0:00:01    59% |███████████████████             | 30kB 680kB/s eta 0:00:01\n",
      "\u001b[?25hRequirement already satisfied: numpy in /opt/conda/lib/python3.6/site-packages (from word2vec)\n",
      "Requirement already satisfied: cython in /opt/conda/lib/python3.6/site-packages (from word2vec)\n",
      "Building wheels for collected packages: word2vec\n",
      "  Running setup.py bdist_wheel for word2vec ... \u001b[?25ldone\n",
      "\u001b[?25h  Stored in directory: /home/jovyan/.cache/pip/wheels/89/a1/cb/417bcc7143a3e2befcc82da185ce8ad4a340eb82c0bf48969c\n",
      "Successfully built word2vec\n",
      "Installing collected packages: word2vec\n",
      "Successfully installed word2vec-0.9.2\n",
      "\u001b[33mYou are using pip version 9.0.1, however version 10.0.1 is available.\n",
      "You should consider upgrading via the 'pip install --upgrade pip' command.\u001b[0m\n"
     ]
    }
   ],
   "source": [
    "! pip install word2vec"
   ]
  },
  {
   "cell_type": "code",
   "execution_count": 133,
   "metadata": {},
   "outputs": [],
   "source": [
    "import word2vec"
   ]
  },
  {
   "cell_type": "code",
   "execution_count": 141,
   "metadata": {},
   "outputs": [
    {
     "data": {
      "text/plain": [
       "<gensim.models.word2vec.Word2Vec at 0x7fa83f92cc50>"
      ]
     },
     "execution_count": 141,
     "metadata": {},
     "output_type": "execute_result"
    }
   ],
   "source": [
    "from gensim.models import Word2Vec\n"
   ]
  },
  {
   "cell_type": "code",
   "execution_count": 144,
   "metadata": {},
   "outputs": [],
   "source": [
    "sentences = [['first', 'sentence'], ['second', 'sentence']]"
   ]
  },
  {
   "cell_type": "code",
   "execution_count": 157,
   "metadata": {},
   "outputs": [],
   "source": [
    "# build sentences\n",
    "lyr_filter = pd.read_csv('filteredGeniusLyrics5540.csv')\n",
    "lyr_filter= lyr_filter.drop('lyricsGenius',1)"
   ]
  },
  {
   "cell_type": "code",
   "execution_count": 177,
   "metadata": {},
   "outputs": [],
   "source": [
    "artistSentence = [str(x).split() for x in lyr_filter['Artist']]\n",
    "trackSentence = [str(x).split() for x in lyr_filter['Track Name']]"
   ]
  },
  {
   "cell_type": "code",
   "execution_count": 179,
   "metadata": {},
   "outputs": [],
   "source": [
    "artmodel = Word2Vec(artistSentence, min_count=1,size=300)"
   ]
  },
  {
   "cell_type": "code",
   "execution_count": 180,
   "metadata": {},
   "outputs": [],
   "source": [
    "trackmodel = Word2Vec(trackSentence, min_count=1,size=100)"
   ]
  },
  {
   "cell_type": "code",
   "execution_count": 193,
   "metadata": {},
   "outputs": [],
   "source": [
    "def getVectorForSentence(sent,mod):\n",
    "    cum = np.zeros(100)\n",
    "    for word in sent:\n",
    "        cum += mod[word]\n",
    "    return cum\n",
    "        "
   ]
  },
  {
   "cell_type": "code",
   "execution_count": 183,
   "metadata": {},
   "outputs": [
    {
     "name": "stderr",
     "output_type": "stream",
     "text": [
      "/opt/conda/lib/python3.6/site-packages/ipykernel_launcher.py:4: DeprecationWarning: Call to deprecated `__getitem__` (Method will be removed in 4.0.0, use self.wv.__getitem__() instead).\n",
      "  after removing the cwd from sys.path.\n"
     ]
    }
   ],
   "source": [
    "artTotal = []\n",
    "for x in lyr_filter['Artist']:\n",
    "    artTotal.append(getVectorForSentence(str(x).split(),artmodel))"
   ]
  },
  {
   "cell_type": "code",
   "execution_count": 186,
   "metadata": {},
   "outputs": [],
   "source": [
    "artTotalDf = pd.DataFrame(artTotal)"
   ]
  },
  {
   "cell_type": "code",
   "execution_count": 188,
   "metadata": {},
   "outputs": [],
   "source": [
    "artcolname = ['art_feat_%d'%(c) for c in range(300)]\n",
    "artTotalDf.columns = artcolname"
   ]
  },
  {
   "cell_type": "code",
   "execution_count": 190,
   "metadata": {},
   "outputs": [],
   "source": [
    "wordVecFeaturesDf = pd.concat([lyr_filter,artTotalDf],1)"
   ]
  },
  {
   "cell_type": "code",
   "execution_count": 194,
   "metadata": {},
   "outputs": [
    {
     "name": "stderr",
     "output_type": "stream",
     "text": [
      "/opt/conda/lib/python3.6/site-packages/ipykernel_launcher.py:4: DeprecationWarning: Call to deprecated `__getitem__` (Method will be removed in 4.0.0, use self.wv.__getitem__() instead).\n",
      "  after removing the cwd from sys.path.\n"
     ]
    }
   ],
   "source": [
    "trackTotal = []\n",
    "for x in lyr_filter['Track Name']:\n",
    "    trackTotal.append(getVectorForSentence(str(x).split(),trackmodel))"
   ]
  },
  {
   "cell_type": "code",
   "execution_count": 196,
   "metadata": {},
   "outputs": [],
   "source": [
    "tracktotalDf = pd.DataFrame(trackTotal)\n",
    "trackcolname = ['track_feat_%d'%(c) for c in range(100)]\n",
    "tracktotalDf.columns = trackcolname"
   ]
  },
  {
   "cell_type": "code",
   "execution_count": 198,
   "metadata": {},
   "outputs": [],
   "source": [
    "wordVecFeaturesDf = pd.concat([wordVecFeaturesDf,tracktotalDf],1)"
   ]
  },
  {
   "cell_type": "code",
   "execution_count": 200,
   "metadata": {},
   "outputs": [],
   "source": [
    "wordVecFeaturesDf.to_csv('wordVecFeatures.csv')"
   ]
  },
  {
   "cell_type": "code",
   "execution_count": null,
   "metadata": {},
   "outputs": [],
   "source": []
  },
  {
   "cell_type": "code",
   "execution_count": null,
   "metadata": {},
   "outputs": [],
   "source": []
  },
  {
   "cell_type": "code",
   "execution_count": null,
   "metadata": {},
   "outputs": [],
   "source": []
  }
 ],
 "metadata": {
  "kernelspec": {
   "display_name": "Python 3",
   "language": "python",
   "name": "python3"
  },
  "language_info": {
   "codemirror_mode": {
    "name": "ipython",
    "version": 3
   },
   "file_extension": ".py",
   "mimetype": "text/x-python",
   "name": "python",
   "nbconvert_exporter": "python",
   "pygments_lexer": "ipython3",
   "version": "3.6.3"
  }
 },
 "nbformat": 4,
 "nbformat_minor": 2
}
