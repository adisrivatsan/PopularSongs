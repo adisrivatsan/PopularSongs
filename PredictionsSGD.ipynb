{
 "cells": [
  {
   "cell_type": "code",
   "execution_count": 21,
   "metadata": {
    "collapsed": true
   },
   "outputs": [],
   "source": [
    "import pandas as pd\n",
    "import numpy as np\n",
    "import matplotlib.pyplot as plt\n",
    "from sklearn.preprocessing import StandardScaler"
   ]
  },
  {
   "cell_type": "code",
   "execution_count": 22,
   "metadata": {
    "collapsed": false
   },
   "outputs": [],
   "source": [
    "trainPCADf = pd.read_csv('trainTPCA.csv')\n",
    "testPCADf = pd.read_csv('testTPCA.csv')\n",
    "trainPCADf = trainPCADf.drop(['Unnamed: 0'],1)\n",
    "testPCADf = testPCADf.drop(['Unnamed: 0'],1)"
   ]
  },
  {
   "cell_type": "markdown",
   "metadata": {},
   "source": [
    "## Data Preparation"
   ]
  },
  {
   "cell_type": "code",
   "execution_count": 23,
   "metadata": {
    "collapsed": true
   },
   "outputs": [],
   "source": [
    "dateStream = pd.read_csv('songRegionStreams.csv')\n",
    "dateStream = dateStream.drop(['Unnamed: 0'],1)"
   ]
  },
  {
   "cell_type": "code",
   "execution_count": 24,
   "metadata": {
    "collapsed": false
   },
   "outputs": [
    {
     "data": {
      "text/plain": [
       "Track Name    object\n",
       "Artist        object\n",
       "Position       int64\n",
       "Streams        int64\n",
       "Date          object\n",
       "Region        object\n",
       "dtype: object"
      ]
     },
     "execution_count": 24,
     "metadata": {},
     "output_type": "execute_result"
    }
   ],
   "source": [
    "dateStream.dtypes"
   ]
  },
  {
   "cell_type": "code",
   "execution_count": 25,
   "metadata": {
    "collapsed": true
   },
   "outputs": [],
   "source": [
    "dateStream = pd.concat([dateStream,pd.get_dummies(dateStream.Region)],1)\n",
    "dateStream['Date'] = pd.to_datetime(dateStream.Date)\n",
    "dateStream['Month'] = [x.month for x in dateStream.Date]\n",
    "dateStream['Day'] = [x.day for x in dateStream.Date]\n",
    "#dateStream[dateStream.columns[6:]] = dateStream[dateStream.columns[6:]].astype(float)\n",
    "#dateStream[dateStream.columns[2:4]] = dateStream[dateStream.columns[2:4]].astype(float)"
   ]
  },
  {
   "cell_type": "code",
   "execution_count": 26,
   "metadata": {
    "collapsed": true
   },
   "outputs": [],
   "source": [
    "trainStream = dateStream.merge(trainPCADf,on=['Track Name','Artist'])\n",
    "testStream = dateStream.merge(testPCADf,on=['Track Name','Artist'])"
   ]
  },
  {
   "cell_type": "raw",
   "metadata": {
    "collapsed": true
   },
   "source": [
    "trainStream"
   ]
  },
  {
   "cell_type": "code",
   "execution_count": 27,
   "metadata": {
    "collapsed": true
   },
   "outputs": [],
   "source": [
    "# split into model type then split into X and Y\n",
    "def splitModelXY(trainData,modelNumber):\n",
    "    trainMod = trainData[trainData['Clabel'] == modelNumber]\n",
    "    XtrainMod = trainMod.sort_values('Date').reset_index(drop=True)\n",
    "    trainScale = StandardScaler()\n",
    "    YtrainMod = np.asarray(np.log(XtrainMod.Streams))\n",
    "    XtrainMod = np.asarray(XtrainMod[XtrainMod.columns[6:-1]].values)\n",
    "    XtrainMod = trainScale.fit_transform(XtrainMod)\n",
    "    return (XtrainMod,YtrainMod,trainScale)\n",
    "    "
   ]
  },
  {
   "cell_type": "code",
   "execution_count": 28,
   "metadata": {
    "collapsed": false
   },
   "outputs": [],
   "source": [
    "trainX1, trainY1, train1Scale1 = splitModelXY(trainStream,1)\n",
    "trainX0, trainY0, train1Scale0 = splitModelXY(trainStream,0)"
   ]
  },
  {
   "cell_type": "code",
   "execution_count": 29,
   "metadata": {
    "collapsed": false
   },
   "outputs": [
    {
     "name": "stdout",
     "output_type": "stream",
     "text": [
      "(116067, 36)\n",
      "(337476, 36)\n"
     ]
    }
   ],
   "source": [
    "print(trainX1.shape)\n",
    "print(trainX0.shape)"
   ]
  },
  {
   "cell_type": "code",
   "execution_count": 30,
   "metadata": {
    "collapsed": true
   },
   "outputs": [],
   "source": [
    "## handling test data\n",
    "def splitModelXYTest(trainData,modelNumber,scalObj):\n",
    "    trainMod = trainData[trainData['Clabel'] == modelNumber]\n",
    "    artistSong = trainMod.drop_duplicates(['Track Name','Artist'])\n",
    "    songCollection = []\n",
    "    for i,r in artistSong.iterrows():\n",
    "        sModel = trainMod[(trainMod['Track Name'] == r['Track Name']) \\\n",
    "                          & (trainMod['Artist'] == r['Artist'])]\n",
    "        \n",
    "        sModel = sModel.sort_values('Date').reset_index(drop=True)\n",
    "        syMod = np.asarray(np.log(sModel.Streams))\n",
    "        sxMod = np.asarray(sModel[sModel.columns[6:-1]].values)\n",
    "        sxMod = scalObj.transform(sxMod)\n",
    "        songCollection.append((r['Artist'],r['Track Name'],sxMod,syMod,sModel.Region,sModel.Date))\n",
    "    return songCollection"
   ]
  },
  {
   "cell_type": "code",
   "execution_count": null,
   "metadata": {
    "collapsed": true
   },
   "outputs": [],
   "source": []
  },
  {
   "cell_type": "code",
   "execution_count": 31,
   "metadata": {
    "collapsed": true
   },
   "outputs": [],
   "source": [
    "testSong1 = splitModelXYTest(testStream,1,train1Scale1)\n",
    "testSong0 = splitModelXYTest(testStream,0,train1Scale0)"
   ]
  },
  {
   "cell_type": "code",
   "execution_count": 32,
   "metadata": {
    "collapsed": false
   },
   "outputs": [
    {
     "name": "stdout",
     "output_type": "stream",
     "text": [
      "272\n",
      "1020\n"
     ]
    }
   ],
   "source": [
    "print(len(testSong1))\n",
    "print(len(testSong0))"
   ]
  },
  {
   "cell_type": "markdown",
   "metadata": {},
   "source": [
    "## Online Learning"
   ]
  },
  {
   "cell_type": "code",
   "execution_count": 33,
   "metadata": {
    "collapsed": true
   },
   "outputs": [],
   "source": [
    "from sklearn.linear_model import SGDRegressor\n",
    "from sklearn.neural_network import MLPRegressor"
   ]
  },
  {
   "cell_type": "code",
   "execution_count": 34,
   "metadata": {
    "collapsed": true
   },
   "outputs": [],
   "source": [
    "# try one model on one class\n",
    "sgd1 = SGDRegressor(max_iter = 300)"
   ]
  },
  {
   "cell_type": "code",
   "execution_count": 35,
   "metadata": {
    "collapsed": true
   },
   "outputs": [],
   "source": [
    "sgd1 = sgd1.fit(trainX1,trainY1)"
   ]
  },
  {
   "cell_type": "code",
   "execution_count": 36,
   "metadata": {
    "collapsed": true
   },
   "outputs": [],
   "source": [
    "sgd0 = SGDRegressor(max_iter=300).fit(trainX0,trainY0)"
   ]
  },
  {
   "cell_type": "code",
   "execution_count": 62,
   "metadata": {
    "collapsed": true
   },
   "outputs": [],
   "source": [
    "## MLP Regressor\n",
    "mlp1 = MLPRegressor(hidden_layer_sizes=100,max_iter=300,alpha=0.25).fit(trainX1,trainY1)\n",
    "mlp0 = MLPRegressor(hidden_layer_sizes=100,max_iter=300,alpha=0.25).fit(trainX0,trainY0)"
   ]
  },
  {
   "cell_type": "code",
   "execution_count": null,
   "metadata": {
    "collapsed": true
   },
   "outputs": [],
   "source": []
  },
  {
   "cell_type": "code",
   "execution_count": 37,
   "metadata": {
    "collapsed": true
   },
   "outputs": [],
   "source": [
    "## Initial testing then we can cross validate \n",
    "def generatePredictions(testSongArr,trainedModel):\n",
    "    \n",
    "    testSongtotal = []\n",
    "    for a,b,tx,ty,r,d in testSongArr:\n",
    "        predictedValue = []\n",
    "        for j in range(len(ty)):\n",
    "            predictedValue.append(trainedModel.predict(tx[j,:].reshape(1, -1)))\n",
    "            trainedModel.partial_fit(tx[j,:].reshape(1, -1),np.array([ty[j]]))\n",
    "        testSongtotal.append((a,b,tx,ty,predictedValue,r,d))\n",
    "    return testSongtotal\n",
    "    "
   ]
  },
  {
   "cell_type": "code",
   "execution_count": 38,
   "metadata": {
    "collapsed": true
   },
   "outputs": [],
   "source": [
    "testSong1Full = generatePredictions(testSong1,sgd1)\n",
    "testSong0Full = generatePredictions(testSong0,sgd0)"
   ]
  },
  {
   "cell_type": "code",
   "execution_count": 39,
   "metadata": {
    "collapsed": false
   },
   "outputs": [],
   "source": [
    "import math\n",
    "\n",
    "# artist, title, pca, streams,predictedValue,r,d\n",
    "\"\"\"\n",
    "takes in testSongXFull and outputs a list of [(song, artist, region, streams[], predictions[], date[])]\n",
    "\"\"\"\n",
    "def process_results_1(results):\n",
    "    processed_res = []\n",
    "    for artist, title, pca, streams,predictedValue,r,d in results:\n",
    "    #     predictedValue = [i[0] for i in predictedValue]\n",
    "        reg_data = {}\n",
    "        for s, p, d, r in zip(streams, predictedValue, d, r):\n",
    "            if r not in reg_data:\n",
    "                reg_data[r] = []\n",
    "            reg_data[r].append((s, p, d))\n",
    "        for r in reg_data:\n",
    "            s = [x[0] for x in reg_data[r]]\n",
    "            p = [x[1][0] for x in reg_data[r]]\n",
    "            d = [x[2] for x in reg_data[r]]\n",
    "            if len(s) < 5:\n",
    "                continue\n",
    "            s = s[0:min(len(s), 45)]\n",
    "            p = p[0:min(len(p), 45)]\n",
    "            d = d[0:min(len(d), 45)]\n",
    "            res = {\n",
    "                'artist' : artist,\n",
    "                'song' : title,\n",
    "                'region' : r,\n",
    "                'dates' : d,\n",
    "                'streams' : s,\n",
    "                'predictions' : p\n",
    "            }\n",
    "            res['diff'] = [abs(st - pr) for st, pr in zip(s, p)]\n",
    "            res['diff_sq'] = [x**2 for x in res['diff']]\n",
    "            res['rmse'] = math.sqrt(sum(res['diff_sq']) / len(res['diff_sq']))\n",
    "            res['err'] = [dif / st for st, dif in zip(s,res['diff'])]\n",
    "            processed_res.append(res)\n",
    "    return processed_res"
   ]
  },
  {
   "cell_type": "code",
   "execution_count": 40,
   "metadata": {
    "collapsed": false
   },
   "outputs": [],
   "source": [
    "p_res1_0 = process_results_1(testSong0Full)\n",
    "p_res1_1 = process_results_1(testSong1Full)"
   ]
  },
  {
   "cell_type": "code",
   "execution_count": 41,
   "metadata": {
    "collapsed": false
   },
   "outputs": [],
   "source": [
    "def process_err(results):\n",
    "    err = [0] * 45\n",
    "    n_songs = [0] * 45\n",
    "    err_global = [0] * 45\n",
    "    n_songs_global = [0] * 45\n",
    "    for res in results:\n",
    "        errors = res['err']\n",
    "        if res['region'] == 'us':\n",
    "            for i in range(len(errors)):\n",
    "                err[i] += errors[i]\n",
    "                n_songs[i] += 1\n",
    "        else:\n",
    "            for i in range(len(errors)):\n",
    "                err_global[i] += errors[i]\n",
    "                n_songs_global[i] += 1\n",
    "    err = [e / n if n > 0 else 0 for e, n in zip(err, n_songs)]\n",
    "    err_global = [e / n if n > 0 else 0 for e, n in zip(err_global, n_songs_global)]\n",
    "    return err, err_global, n_songs, n_songs_global"
   ]
  },
  {
   "cell_type": "code",
   "execution_count": 42,
   "metadata": {
    "collapsed": false
   },
   "outputs": [],
   "source": [
    "err0, err_global0, n0, n_g0 = process_err(p_res1_0)\n",
    "err1, err_global1, n1, n_g1 = process_err(p_res1_1)"
   ]
  },
  {
   "cell_type": "code",
   "execution_count": 43,
   "metadata": {
    "collapsed": false
   },
   "outputs": [],
   "source": [
    "def plot_day_data(y, title, ylabel):\n",
    "#     x = range(1, 46)\n",
    "    plt.plot(pd.Series(y))\n",
    "    plt.title(title)\n",
    "    plt.xlabel('Day')\n",
    "    plt.ylabel('Average Error')\n",
    "    plt.show()"
   ]
  },
  {
   "cell_type": "code",
   "execution_count": 60,
   "metadata": {
    "collapsed": false
   },
   "outputs": [
    {
     "data": {
      "image/png": "[encoded data removed]",
      "text/plain": [
       "<matplotlib.figure.Figure at 0x15a1256eeb8>"
      ]
     },
     "metadata": {},
     "output_type": "display_data"
    }
   ],
   "source": [
    "from pylab import rcParams\n",
    "\n",
    "rcParams['figure.figsize'] = 15, 5\n",
    "\n",
    "for e in [err0, err_global0, err1, err_global1]:\n",
    "#     plot_day_data(e, 'Average Daily Error for MLP Prediction of US Song Streams: Cluster 0', 'Error')\n",
    "    plt.plot(pd.Series(e), linewidth=2.5)\n",
    "\n",
    "plt.title('Average Daily Error for SGD Prediction')\n",
    "plt.xlabel('Day')\n",
    "plt.ylabel('Average Error')\n",
    "plt.legend(['US Songs: Cluster 0', 'Global Songs: Cluster 0', 'US Songs: Cluster 1', 'Global Songs: Cluster 1'])\n",
    "plt.savefig('Images/SGDDailyError.png')\n",
    "plt.show()"
   ]
  },
  {
   "cell_type": "code",
   "execution_count": 57,
   "metadata": {
    "collapsed": true
   },
   "outputs": [],
   "source": [
    "def process_rmse(results):\n",
    "    rmse = [r['rmse'] for r in results if r['region'] == 'us']\n",
    "    rmse_global = [r['rmse'] for r in results if r['region'] != 'us']\n",
    "    return rmse, rmse_global\n",
    "\n",
    "rmse0, rmse_global0 = process_rmse(p_res1_0)\n",
    "rmse1, rmse_global1 = process_rmse(p_res1_1)"
   ]
  },
  {
   "cell_type": "code",
   "execution_count": 59,
   "metadata": {
    "collapsed": false
   },
   "outputs": [
    {
     "data": {
      "image/png": "[encoded data removed]",
      "text/plain": [
       "<matplotlib.figure.Figure at 0x15a181e4710>"
      ]
     },
     "metadata": {},
     "output_type": "display_data"
    }
   ],
   "source": [
    "plt.hist(rmse0 + rmse_global0 + rmse1 + rmse_global1, bins=100)\n",
    "plt.title('Distribution of RMSE Across MLP Predictions With Respect to Song and Region')\n",
    "plt.xlabel('RMSE')\n",
    "plt.ylabel('Count')\n",
    "plt.savefig('Images/SGDallpredRMSE.png')\n",
    "plt.show()"
   ]
  },
  {
   "cell_type": "code",
   "execution_count": 54,
   "metadata": {
    "collapsed": false
   },
   "outputs": [],
   "source": [
    "def get_total_rmse(results):\n",
    "    dsq = []\n",
    "    dsq_global = []\n",
    "    for r in results:\n",
    "        if r['region'] == 'us':\n",
    "            dsq += r['diff_sq']\n",
    "        else:\n",
    "            dsq_global += r['diff_sq']\n",
    "    rmse = math.sqrt(sum(dsq) / (1.0 * len(dsq)))\n",
    "    rmse_global = math.sqrt(sum(dsq_global) / (1.0 * len(dsq_global)))\n",
    "    return rmse, rmse_global"
   ]
  },
  {
   "cell_type": "code",
   "execution_count": 55,
   "metadata": {
    "collapsed": false
   },
   "outputs": [
    {
     "name": "stdout",
     "output_type": "stream",
     "text": [
      "RMSE for US Song Predictions, cluster 0:\t0.422378\n",
      "RMSE for Global Song Predictions, cluster 0:\t0.630892\n",
      "RMSE for US Song Predictions, cluster 1:\t0.518753\n",
      "RMSE for Global Song Predictions, cluster 1:\t0.626867\n"
     ]
    }
   ],
   "source": [
    "rmse0, rmse_global0 = get_total_rmse(p_res1_0)\n",
    "rmse1, rmse_global1 = get_total_rmse(p_res1_1)\n",
    "print('RMSE for US Song Predictions, cluster 0:\\t%f'%rmse0)\n",
    "print('RMSE for Global Song Predictions, cluster 0:\\t%f'%rmse_global0)\n",
    "print('RMSE for US Song Predictions, cluster 1:\\t%f'%rmse1)\n",
    "print('RMSE for Global Song Predictions, cluster 1:\\t%f'%rmse_global1)"
   ]
  },
  {
   "cell_type": "code",
   "execution_count": null,
   "metadata": {
    "collapsed": true
   },
   "outputs": [],
   "source": []
  }
 ],
 "metadata": {
  "kernelspec": {
   "display_name": "Python 3",
   "language": "python",
   "name": "python3"
  },
  "language_info": {
   "codemirror_mode": {
    "name": "ipython",
    "version": 3
   },
   "file_extension": ".py",
   "mimetype": "text/x-python",
   "name": "python",
   "nbconvert_exporter": "python",
   "pygments_lexer": "ipython3",
   "version": "3.6.0"
  }
 },
 "nbformat": 4,
 "nbformat_minor": 2
}
